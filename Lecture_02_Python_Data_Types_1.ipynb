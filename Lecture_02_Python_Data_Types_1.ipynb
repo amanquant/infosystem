{
 "cells": [
  {
   "cell_type": "markdown",
   "metadata": {
    "slideshow": {
     "slide_type": "slide"
    }
   },
   "source": [
    "# Fundamentals of Information Systems\n",
    "\n",
    "## Python Programming (for Data Science)\n",
    "\n",
    "### Master's Degree in Data Science\n",
    "\n",
    "#### Giorgio Maria Di Nunzio\n",
    "#### (Courtesy of Gabriele Tolomei FIS 2018-2019)\n",
    "<a href=\"mailto:giorgiomaria.dinunzio@unipd.it\">giorgiomaria.dinunzio@unipd.it</a><br/>\n",
    "University of Padua, Italy<br/>\n",
    "2019/2020<br/>"
   ]
  },
  {
   "cell_type": "markdown",
   "metadata": {
    "slideshow": {
     "slide_type": "slide"
    }
   },
   "source": [
    "# Lecture 2: Python's Built-in Data Types (1)"
   ]
  },
  {
   "cell_type": "markdown",
   "metadata": {
    "slideshow": {
     "slide_type": "slide"
    }
   },
   "source": [
    "## Data Type Hierarchy\n",
    "\n",
    "-  Python's built-in data types can be grouped into several classes. \n",
    "\n",
    "-  We use the same hierarchy scheme used in the [official Python documentation](https://docs.python.org/3/library/stdtypes.html), which defines the following classes:\n",
    "\n",
    "    -  **numeric**, **sequences**, **sets** and **mappings** (and a few more not discussed further here).\n",
    "\n",
    "-  A special mention goes to two particular data types: **<code>bool</code>** and **<code>NoneType</code>**."
   ]
  },
  {
   "cell_type": "markdown",
   "metadata": {
    "slideshow": {
     "slide_type": "slide"
    }
   },
   "source": [
    "# Booleans\n"
   ]
  },
  {
   "cell_type": "markdown",
   "metadata": {
    "slideshow": {
     "slide_type": "slide"
    }
   },
   "source": [
    "## Type <code>bool</code> (*immutable*)\n",
    "\n",
    "-  It encapsulates the two boolean values which are written as <code>**True**</code> and <code>**False**</code>. \n",
    "\n",
    "-  Comparisons and other conditional expressions evaluate to either <code>**True**</code> or <code>**False**</code>. \n",
    "\n",
    "-  Boolean values are combined with the <code>**and**</code> and <code>**or**</code> keywords."
   ]
  },
  {
   "cell_type": "code",
   "execution_count": null,
   "metadata": {
    "slideshow": {
     "slide_type": "slide"
    }
   },
   "outputs": [],
   "source": [
    "type(True)"
   ]
  },
  {
   "cell_type": "markdown",
   "metadata": {
    "slideshow": {
     "slide_type": "slide"
    }
   },
   "source": [
    "## Boolean Operations: <code>or</code>, <code>and</code>, <code>not</code>\n",
    "\n",
    "-  Ordered by ascending priority"
   ]
  },
  {
   "cell_type": "code",
   "execution_count": null,
   "metadata": {
    "slideshow": {
     "slide_type": "slide"
    }
   },
   "outputs": [],
   "source": [
    "False or True"
   ]
  },
  {
   "cell_type": "code",
   "execution_count": null,
   "metadata": {
    "slideshow": {
     "slide_type": "slide"
    }
   },
   "outputs": [],
   "source": [
    "True and True or not False"
   ]
  },
  {
   "cell_type": "markdown",
   "metadata": {
    "slideshow": {
     "slide_type": "slide"
    }
   },
   "source": [
    "## Comparisons\n",
    "\n",
    "-  There are **eight** comparison operations in Python. \n",
    "\n",
    "-  They all have the same priority (which is higher than that of the Boolean operations). \n",
    "\n",
    "-  Comparisons can be chained arbitrarily; for example, <code>**x < y <= z**</code> is equivalent to <code>**x < y and y <= z**</code>, except that <code>**y**</code> is evaluated **only once** (but in both cases <code>**z**</code> is not evaluated at all when <code>**x < y**</code> is found to be <code>**False**</code>).\n",
    "\n"
   ]
  },
  {
   "cell_type": "markdown",
   "metadata": {
    "slideshow": {
     "slide_type": "slide"
    }
   },
   "source": [
    "## A Quick Note on the <code>is</code> Operator\n",
    "\n",
    "-  It is used to compare the **identity** of two objects.\n",
    "\n",
    "-  The **identity** of an object can be found with the <code>**id()**</code> built-in function.\n",
    "\n",
    "-  <code>**id()**</code> takes as input a Python object and returns an integer representing the identity of _that_ object.\n",
    "\n",
    "-  In the standard CPython implementation, this integer corresponds to the object's location in memory (in other implementations/platforms this might be different).\n"
   ]
  },
  {
   "cell_type": "markdown",
   "metadata": {
    "slideshow": {
     "slide_type": "slide"
    }
   },
   "source": [
    "## <code>is</code> _vs._ <code>==</code>\n",
    "\n",
    "-  <code>**is**</code> is used to test for **identity** of two objects by means of the <code>**id()**</code> function.\n",
    "-  <code>**==**</code> is used to test for the **value** of two objects.\n",
    "-  In other words, if you have 2 objects <code>**x**</code> and <code>**y**</code> the statement below\n",
    "```python\n",
    "x is y\n",
    "```\n",
    "corresponds to the following:\n",
    "```python\n",
    "id(x) == id(y)\n",
    "```"
   ]
  },
  {
   "cell_type": "code",
   "execution_count": null,
   "metadata": {
    "slideshow": {
     "slide_type": "slide"
    }
   },
   "outputs": [],
   "source": [
    "# Using the 'is' operator in combination with immutable objects (e.g., integers)\n",
    "x = 42\n",
    "y = x\n",
    "print(\"id(x) = {}\".format(id(x)))\n",
    "print(\"id(42) = {}\".format(id(42)))\n",
    "print(\"id(y) = {}\".format(id(y)))\n",
    "print(\"Q: The identity of x is the same of that of y? A: {}\".format(x is y))# id(x) == id(y)\n",
    "\n",
    "# Modifying x (immutable) means creating a new integer object and assign it to x\n",
    "x += 1\n",
    "print(\"id(x) = {}\".format(id(x)))\n",
    "print(\"id(43) = {}\".format(id(43)))\n",
    "print(\"id(42) = {}\".format(id(42)))\n",
    "print(\"id(y) = {}\".format(id(y)))\n",
    "print(\"Q: The identity of x is the same of that of y? A: {}\".format(x is y))# id(x) == id(y)"
   ]
  },
  {
   "cell_type": "code",
   "execution_count": null,
   "metadata": {
    "slideshow": {
     "slide_type": "slide"
    }
   },
   "outputs": [],
   "source": [
    "# Using the 'is' operator in combination with mutable objects (e.g., lists)\n",
    "x = [1, 2, 3]\n",
    "y = x\n",
    "print(\"id(x) = {}\".format(id(x)))\n",
    "print(\"id(y) = {}\".format(id(y)))\n",
    "print(\"Q: The identity of x is the same of that of y? A: {}\".format(x is y))# id(x) == id(y)\n",
    "\n",
    "# Let's modify x\n",
    "x.append(4)\n",
    "print(\"id(x) = {}\".format(id(x)))\n",
    "print(\"id(y) = {}\".format(id(y)))\n",
    "print(\"Q: The identity of x is the same of that of y? A: {}\".format(x is y))# id(x) == id(y)"
   ]
  },
  {
   "cell_type": "code",
   "execution_count": null,
   "metadata": {
    "slideshow": {
     "slide_type": "slide"
    }
   },
   "outputs": [],
   "source": [
    "# Unexpected behaviors which might cause you some problems...\n",
    "x = 42\n",
    "y = 42\n",
    "print(\"Q: The identity of x is the same of that of y? A: {}\".format(x is y))# id(x) == id(y)\n",
    "print(\"Q: The value of x is the same of that of y? A: {}\".format(x == y))\n",
    "\n",
    "x = 257\n",
    "y = 257\n",
    "print(\"Q: The identity of x is the same of that of y? A: {}\".format(x is y))# id(x) == id(y)\n",
    "print(\"Q: The value of x is the same of that of y? A: {}\".format(x == y))\n",
    "\n",
    "# This odd behavior depends on the fact that CPython implements \n",
    "# integers in the range (-5, 256) at fixed memory locations. As such, any named variable\n",
    "# referencing one of those integers will always have the same memory address.\n",
    "# On the other hand, integers outside that range might be possibly allocated at different\n",
    "# memory addresses and therefore they have different identities even though the same value!\n",
    "# Long story short, if you want to test for equality DO USE '=='"
   ]
  },
  {
   "cell_type": "code",
   "execution_count": null,
   "metadata": {
    "slideshow": {
     "slide_type": "slide"
    }
   },
   "outputs": [],
   "source": [
    "# When you work with mutable objects you will always face the following behavior\n",
    "x = [1, 2, 3]\n",
    "y = [1, 2, 3] # Note that here we are assigning a 'new' object to y\n",
    "print(\"Q: The identity of x is the same of that of y? A: {}\".format(x is y))# id(x) == id(y)\n",
    "print(\"Q: The value of x is the same of that of y? A: {}\".format(x == y))"
   ]
  },
  {
   "cell_type": "markdown",
   "metadata": {
    "slideshow": {
     "slide_type": "slide"
    }
   },
   "source": [
    "## Non-zero Interpretation\n",
    "\n",
    "-  Almost all built-in Python types (and any class defining the <code>**\\__nonzero\\__**</code> method) have a <code>**True**</code> or <code>**False**</code> interpretation in an <code>**if**</code> statement"
   ]
  },
  {
   "cell_type": "code",
   "execution_count": null,
   "metadata": {
    "slideshow": {
     "slide_type": "slide"
    }
   },
   "outputs": [],
   "source": [
    "x = [1, 2, 3] # define a list with 3 elements\n",
    "if x:\n",
    "    print('The list contains something!')\n",
    "    \n",
    "y = [] # define an empty list\n",
    "if not y:\n",
    "    print('The list is empty!')"
   ]
  },
  {
   "cell_type": "markdown",
   "metadata": {
    "slideshow": {
     "slide_type": "slide"
    }
   },
   "source": [
    "## True- or Falseness\n",
    "\n",
    "-  Most objects in Python have a notion of true- or falseness. \n",
    "\n",
    "-  For example, empty sequences like lists, dicts, tuples, etc. (more on those types later on) are treated as <code>**False**</code> if used in control flow (see the empty list <code>**y**</code> above). \n",
    "\n",
    "-  You can see exactly what boolean value an object coerces to by invoking <code>**bool**</code> on it."
   ]
  },
  {
   "cell_type": "code",
   "execution_count": null,
   "metadata": {
    "slideshow": {
     "slide_type": "slide"
    }
   },
   "outputs": [],
   "source": [
    "bool([]), bool([1, 2, 3])"
   ]
  },
  {
   "cell_type": "code",
   "execution_count": null,
   "metadata": {
    "slideshow": {
     "slide_type": "slide"
    }
   },
   "outputs": [],
   "source": [
    "bool('Hello World!'), bool('')"
   ]
  },
  {
   "cell_type": "code",
   "execution_count": null,
   "metadata": {
    "slideshow": {
     "slide_type": "slide"
    }
   },
   "outputs": [],
   "source": [
    "bool(0), bool(1)"
   ]
  },
  {
   "cell_type": "markdown",
   "metadata": {
    "slideshow": {
     "slide_type": "slide"
    }
   },
   "source": [
    "# None"
   ]
  },
  {
   "cell_type": "markdown",
   "metadata": {
    "slideshow": {
     "slide_type": "slide"
    }
   },
   "source": [
    "## Type <code>NoneType</code> (*immutable*) and <code>None</code> instance\n",
    "\n",
    "-  <code>**None**</code> is the Python **null** value type.\n",
    "\n",
    "-  Actually, it is the unique available *instance* of <code>**NoneType**</code> object.\n",
    "\n",
    "-  If a function does not explicitly return a value, it implicitly returns <code>**None**</code>.\n",
    "\n",
    "-  <code>**None**</code> is also a common default value for *optional* function arguments."
   ]
  },
  {
   "cell_type": "code",
   "execution_count": null,
   "metadata": {
    "slideshow": {
     "slide_type": "slide"
    }
   },
   "outputs": [],
   "source": [
    "a = None\n",
    "a is None"
   ]
  },
  {
   "cell_type": "code",
   "execution_count": null,
   "metadata": {
    "scrolled": true,
    "slideshow": {
     "slide_type": "slide"
    }
   },
   "outputs": [],
   "source": [
    "b = 42\n",
    "b is None"
   ]
  },
  {
   "cell_type": "code",
   "execution_count": null,
   "metadata": {
    "slideshow": {
     "slide_type": "slide"
    }
   },
   "outputs": [],
   "source": [
    "# z is an optional input argument of the following function\n",
    "def add_and_possibly_multiply(x, y, z=None):\n",
    "    \n",
    "    result = x + y # sum the first two positional input arguments\n",
    "    \n",
    "    if z is not None: # multiply the current result by z iff z is not None\n",
    "        result *= z\n",
    "\n",
    "    return result # finally, return the result"
   ]
  },
  {
   "cell_type": "markdown",
   "metadata": {
    "slideshow": {
     "slide_type": "slide"
    }
   },
   "source": [
    "# Numerics"
   ]
  },
  {
   "cell_type": "markdown",
   "metadata": {
    "slideshow": {
     "slide_type": "slide"
    }
   },
   "source": [
    "## Numeric Types: <code>int</code>, <code>float</code>, <code>complex</code> (*immutables*)\n",
    "\n",
    "-  The primary Python types for numbers are:\n",
    "    -  <code>**int**</code>: represents arbitrarily large integers (in Python 2.x this is equivalent to C <code>**long**</code>);\n",
    "    -  <code>**float**</code>: floating-point numbers (equivalent to 64-bit C <code>**double**</code>);\n",
    "    -  <code>**complex**</code>: complex numbers."
   ]
  },
  {
   "cell_type": "code",
   "execution_count": null,
   "metadata": {
    "scrolled": true,
    "slideshow": {
     "slide_type": "slide"
    }
   },
   "outputs": [],
   "source": [
    "# An integer number\n",
    "ix = 123456789\n",
    "\n",
    "# A very large integer obtained from the one before by rising it to the 8-th power\n",
    "ix ** 8"
   ]
  },
  {
   "cell_type": "markdown",
   "metadata": {
    "slideshow": {
     "slide_type": "slide"
    }
   },
   "source": [
    "## A Quick Note on Extremely Large Integers\n",
    "\n",
    "-  On Python 2.x, <code>sys.maxint</code> gives you the (maximum) integer value which your computer can work **natively** with.\n",
    "\n",
    "-  Up to <code>sys.maxint</code> your machine is able to perform arithmetic operation (e.g., addition, multiplication) in a **single** CPU instruction.\n",
    "\n",
    "-  This value corresponds to the number that can be represented using 64 bits (if your platform word's size is 64 bits, otherwise 32 bits, etc.)."
   ]
  },
  {
   "cell_type": "markdown",
   "metadata": {
    "slideshow": {
     "slide_type": "slide"
    }
   },
   "source": [
    "## A Quick Note on Extremely Large Integers: Beyond <code>sys.maxint</code>\n",
    "\n",
    "-  Just because that is what can be done in a single CPU instruction does not mean you cannot go beyond that limit!\n",
    "\n",
    "-  Python introduces **extended-precision integers** to overcome such a limitation.\n",
    "\n",
    "-  Those are \"sofware structures\" that can handle integers of any size transparently to the user by chaining them together, only limited by the memory available.\n",
    "\n",
    "-  Python 2.x keeps native integers \"separate\" from extended-precision ones, whilst Python 3.x treats every integer as extended-precision."
   ]
  },
  {
   "cell_type": "code",
   "execution_count": null,
   "metadata": {
    "slideshow": {
     "slide_type": "slide"
    }
   },
   "outputs": [],
   "source": [
    "# A float number\n",
    "fx = 3.645\n",
    "\n",
    "# A float number defined using scientific notation\n",
    "fx_exp = 8.21e-4"
   ]
  },
  {
   "cell_type": "markdown",
   "metadata": {
    "slideshow": {
     "slide_type": "slide"
    }
   },
   "source": [
    "## A Quick Note of Floating-Point Arithmetic\n",
    "\n",
    "-  As opposed to integers, floating-point numbers have a finite-precision representation in computer hardware as base 2 (binary) fractions.\n",
    "\n",
    "-  For example, consider the decimal fraction 0.125 and the binary fraction 0.001\n",
    "\n",
    "-  Both represent the same number: $1*10^{-1} + 2*10^{-2} + 5*10^{-3} = 0*2^{-1} + 0*2^{-2} + 1*2^{-3}$\n",
    "\n",
    "-  Unfortunately, most decimal fractions cannot be represented *exactly* as binary fractions. \n",
    "\n",
    "-  As such, decimal floating-point numbers are thus approximated by the binary floating-point numbers actually stored in the machine."
   ]
  },
  {
   "cell_type": "markdown",
   "metadata": {
    "slideshow": {
     "slide_type": "slide"
    }
   },
   "source": [
    "## A Quick Note of Floating-Point Arithmetic: Issues\n",
    "\n",
    "-  No matter how many decimal digits you use, you will not get the exact representation of the fraction 1/3 = 0.333...\n",
    "\n",
    "-  In the same way, no matter how many binary digits you use, the decimal value 1/10 = 0.1 cannot be represented exactly as a binary fraction. \n",
    "\n",
    "- In base 2, the decimal value 1/10 = 0.1 is the infinitely repeating fraction: 0.00011001100110011...\n",
    "\n",
    "-  Stop at any finite number of bits, and you get an approximation! "
   ]
  },
  {
   "cell_type": "markdown",
   "metadata": {
    "slideshow": {
     "slide_type": "slide"
    }
   },
   "source": [
    "## A Quick Note of Floating-Point Arithmetic: Example\n",
    "\n",
    "-  Suppose we want to transform a decimal number *n = 4.47* into its corresponding yet approximated binary fraction using *k = 6* bits of precision. \n",
    "\n",
    "-  **Step 1:** Conversion of the integer part of *n* (i.e., *4*) to binary:\n",
    "    1. 4/2 : Remainder = 0 : Quotient = 2\n",
    "    2. 2/2 : Remainder = 0 : Quotient = 1\n",
    "    3. 1/2 : Remainder = 1 : Quotient = 0\n",
    "\n",
    "So, equivalent binary of integral part of decimal is **100**"
   ]
  },
  {
   "cell_type": "markdown",
   "metadata": {
    "slideshow": {
     "slide_type": "slide"
    }
   },
   "source": [
    "## A Quick Note of Floating-Point Arithmetic: Example\n",
    "\n",
    "-  **Step 2:** Conversion of the fractional part of *n* (i.e., *.47*) to binary:\n",
    "    1. 0.47 * 2 = 0.94, Integral part: 0\n",
    "    2. 0.94 * 2 = 1.88, Integral part: 1\n",
    "    3. 0.88 * 2 = 1.76, Integral part: 1\n",
    "    4. 0.76 * 2 = 1.32, Integral part: 1\n",
    "    5. 0.32 * 2 = 0.64, Integral part: 0\n",
    "    6. 0.64 * 2 = 1.28, Integral part: 1\n",
    "\n",
    "So, equivalent binary of fractional part of decimal is **.011101**"
   ]
  },
  {
   "cell_type": "markdown",
   "metadata": {
    "slideshow": {
     "slide_type": "slide"
    }
   },
   "source": [
    "## A Quick Note of Floating-Point Arithmetic: Example\n",
    "\n",
    "-  **Step 3:** Combining the result of Step 1 and 2 to get the *k*-bit (*k = 6*) approximated binary fraction corresponding to the decimal number *n = 4.47*.\n",
    "\n",
    "<center>$(4.47)_{10} = 100 + 0.011101 = (100.011101)_{2}$</center>"
   ]
  },
  {
   "cell_type": "markdown",
   "metadata": {
    "slideshow": {
     "slide_type": "slide"
    }
   },
   "source": [
    "## Division (<code>/</code>): Python 2.x vs. Python 3.x\n",
    "\n",
    "-  In Python 2.x, dividing two integers always results in an <code>**int**</code> (C-style).\n",
    "\n",
    "-  In Python 3.x, dividing two integers always returns a <code>**float**</code>. \n",
    "\n",
    "-  This is fine when the result of your integer division is an integer, but it leads to quite different results when the answer is a real number!"
   ]
  },
  {
   "cell_type": "markdown",
   "metadata": {
    "slideshow": {
     "slide_type": "slide"
    }
   },
   "source": [
    "```python\n",
    "# Python 2.x\n",
    "# Division operator (/) always returns an int\n",
    "print 4/2\n",
    "2\n",
    "print 3/2\n",
    "1\n",
    "```"
   ]
  },
  {
   "cell_type": "markdown",
   "metadata": {
    "slideshow": {
     "slide_type": "slide"
    }
   },
   "source": [
    "```python\n",
    "# Python 3.x\n",
    "# Division operator (/) always returns a float\n",
    "print(4/2)\n",
    "2.0\n",
    "print(3/2)\n",
    "1.5\n",
    "```"
   ]
  },
  {
   "cell_type": "markdown",
   "metadata": {
    "slideshow": {
     "slide_type": "slide"
    }
   },
   "source": [
    "## Integer Division in Python 3.x\n",
    "\n",
    "-  To get C-style integer division in Python 3.x, use the floor division operator <code>**//**</code>:\n",
    "```python\n",
    "print(3//2)\n",
    "1\n",
    "```"
   ]
  },
  {
   "cell_type": "markdown",
   "metadata": {
    "slideshow": {
     "slide_type": "slide"
    }
   },
   "source": [
    "# Sequences"
   ]
  },
  {
   "cell_type": "markdown",
   "metadata": {
    "slideshow": {
     "slide_type": "slide"
    }
   },
   "source": [
    "## Sequence Types\n",
    "\n",
    "-  Built-in sequences can be either **_immutable_** or **_mutable_**.\n",
    "\n",
    "-  **_Immutable_** sequence types are:\n",
    "    -  <code>**str**</code>\n",
    "    -  <code>**bytes**</code>\n",
    "    -  <code>**tuple**</code>\n",
    "    \n",
    "-  **_Mutable_** sequence types are:\n",
    "    -  <code>**byte array**</code>\n",
    "    -  <code>**list**</code>"
   ]
  },
  {
   "cell_type": "markdown",
   "metadata": {
    "slideshow": {
     "slide_type": "slide"
    }
   },
   "source": [
    "# Strings: Type <code>str</code> (_immutable_)"
   ]
  },
  {
   "cell_type": "markdown",
   "metadata": {
    "slideshow": {
     "slide_type": "slide"
    }
   },
   "source": [
    "## String Definition\n",
    "\n",
    "-  You can write *string literals* using either single quotes <code>**'**</code> or double quotes <code>**\"**</code>.\n",
    "\n",
    "-  Similarly, multiline strings with line breaks must be enclosed by triple quotes, either <code>**'''**</code> or <code>**\"\"\"**</code>."
   ]
  },
  {
   "cell_type": "code",
   "execution_count": null,
   "metadata": {
    "slideshow": {
     "slide_type": "slide"
    }
   },
   "outputs": [],
   "source": [
    "s = 'This is a single-quoted string'\n",
    "t = \"This is a double-quoted string\"\n",
    "u = 'This is a single-quoted string with \"double quotes\" inside'\n",
    "v = \"This is a double-quoted string with 'single quotes' inside\"\n",
    "w = 'This is a single-quoted string with \\'escaped single quotes\\' inside'\n",
    "x = \"This is a double-quoted string with \\\"escaped double quotes\\\" inside\""
   ]
  },
  {
   "cell_type": "code",
   "execution_count": null,
   "metadata": {
    "slideshow": {
     "slide_type": "slide"
    }
   },
   "outputs": [],
   "source": [
    "m_s = '''\n",
    "This is\n",
    "a multiline string\n",
    "enclosed by triple single quotes\n",
    "'''\n",
    "m_t = \"\"\"\n",
    "This is\n",
    "a multiline string\n",
    "enclosed by triple double quotes\n",
    "\"\"\""
   ]
  },
  {
   "cell_type": "code",
   "execution_count": null,
   "metadata": {},
   "outputs": [],
   "source": [
    "m_s = 'This is\\n a multiline string\\nenclosed by triple single quotes'\n",
    "\n"
   ]
  },
  {
   "cell_type": "code",
   "execution_count": null,
   "metadata": {},
   "outputs": [],
   "source": [
    "m_s"
   ]
  },
  {
   "cell_type": "code",
   "execution_count": null,
   "metadata": {
    "slideshow": {
     "slide_type": "slide"
    }
   },
   "outputs": [],
   "source": [
    "# Count how many lines the string above is made of\n",
    "# You might expect the result being 3, instead the '\\n' character \n",
    "# right after the opening and closing triple quotes counts as well\n",
    "len(m_s.split('\\n'))"
   ]
  },
  {
   "cell_type": "markdown",
   "metadata": {
    "slideshow": {
     "slide_type": "slide"
    }
   },
   "source": [
    "## Properties\n",
    "\n",
    "-  Python 3.x strings (<code>**str**</code>) are **immutable** sequences of Unicode **code points**. \n",
    "\n",
    "-  [Unicode](https://unicode-table.com/en/) is a standard mapping between each character of every language to a unique number (**code point**) [to support non-ASCII characters].\n",
    "\n",
    "-  Unicode defines 1,114,112 code points, which are denoted by (hexadecimal) numbers in the range of <code>U+000000 - U+10FFFF</code>.\n",
    "\n",
    "-  In Python 2.x, <code>**str**</code> instead refers to a sequence of **bytes** and there is a dedicated type <code>**unicode**</code> for representing Unicode code points.\n",
    "\n",
    "-  You **cannot** modify a string without creating a new one."
   ]
  },
  {
   "cell_type": "code",
   "execution_count": null,
   "metadata": {
    "slideshow": {
     "slide_type": "slide"
    }
   },
   "outputs": [],
   "source": [
    "# define a string\n",
    "s = 'This is a string'\n",
    "\n",
    "# Try to access the 7-th character of the sequence (index is 0-based) \n",
    "# and change it to a different character\n",
    "s[6] = 'z'"
   ]
  },
  {
   "cell_type": "code",
   "execution_count": null,
   "metadata": {},
   "outputs": [],
   "source": [
    "# define a string\n",
    "s = \"This is a string\"\n",
    "\n"
   ]
  },
  {
   "cell_type": "code",
   "execution_count": null,
   "metadata": {},
   "outputs": [],
   "source": [
    "s"
   ]
  },
  {
   "cell_type": "code",
   "execution_count": null,
   "metadata": {},
   "outputs": [],
   "source": [
    "s[2] = 'u'"
   ]
  },
  {
   "cell_type": "code",
   "execution_count": null,
   "metadata": {},
   "outputs": [],
   "source": [
    "t = ['T', 'h', 'i', 's']"
   ]
  },
  {
   "cell_type": "code",
   "execution_count": null,
   "metadata": {},
   "outputs": [],
   "source": [
    "u = ['T', 'h', 'i', 's']"
   ]
  },
  {
   "cell_type": "code",
   "execution_count": null,
   "metadata": {},
   "outputs": [],
   "source": [
    "s = \"This\"\n",
    "v = \"This\"\n",
    "z = \"This\""
   ]
  },
  {
   "cell_type": "code",
   "execution_count": null,
   "metadata": {},
   "outputs": [],
   "source": [
    "t_tuple = ('T', 'h', 'i', 's')"
   ]
  },
  {
   "cell_type": "code",
   "execution_count": null,
   "metadata": {},
   "outputs": [],
   "source": [
    "s_tuple = ('T', 'h', 'i', 2)"
   ]
  },
  {
   "cell_type": "code",
   "execution_count": null,
   "metadata": {},
   "outputs": [],
   "source": [
    "t_tuple is s_tuple"
   ]
  },
  {
   "cell_type": "code",
   "execution_count": null,
   "metadata": {},
   "outputs": [],
   "source": []
  },
  {
   "cell_type": "code",
   "execution_count": null,
   "metadata": {},
   "outputs": [],
   "source": []
  },
  {
   "cell_type": "code",
   "execution_count": null,
   "metadata": {
    "slideshow": {
     "slide_type": "slide"
    }
   },
   "outputs": [],
   "source": [
    "# This will actually create a new, modified string object\n",
    "new_s = s.replace('string', 'new string')\n",
    "print(new_s)"
   ]
  },
  {
   "cell_type": "markdown",
   "metadata": {
    "slideshow": {
     "slide_type": "slide"
    }
   },
   "source": [
    "## String Concatenation\n",
    "\n",
    "-  It is often very useful to be able to combine strings into a new string.\n",
    "\n",
    "-  This can be done with the plus sign (<code>**+**</code>), which is the *operator* used to concatenate two (or more) strings into one.\n",
    "\n",
    "-  You can use as many plus signs as you want in composing messages."
   ]
  },
  {
   "cell_type": "code",
   "execution_count": null,
   "metadata": {
    "slideshow": {
     "slide_type": "slide"
    }
   },
   "outputs": [],
   "source": [
    "# define three strings\n",
    "a = 'This is the first string.'\n",
    "b = 'This is the second string.'\n",
    "c = 'This is the third string.'\n",
    "\n",
    "# Concatenating them all and interleave each string with a blank character\n",
    "print(a + ' ' + b + ' ' + c)"
   ]
  },
  {
   "cell_type": "markdown",
   "metadata": {
    "slideshow": {
     "slide_type": "slide"
    }
   },
   "source": [
    "## Quiz Time\n",
    "\n",
    "Concatenating more than 2 strings using the '<code>**+**</code>' operator doesn't scale well and might be highly inefficient when the number of strings to concatenate becomes larger. **Why?**"
   ]
  },
  {
   "cell_type": "markdown",
   "metadata": {
    "slideshow": {
     "slide_type": "slide"
    }
   },
   "source": [
    "## Answer\n",
    "\n",
    "Because for each concatenation (i.e., for each pair of strings to concatenate) a *new* string object is created (allocated) and all the previous strings have to be first copied into the newly allocated space for result<br />\n",
    "Suppose you have $n$ strings (therefore $n-1$ concatenations), each string of length $l$: you'll copy $2l$ characters for the first concatenation (i.e., $l$ from the first and $l$ from the second string), plus $3l$ the second concatenation, plus $4l$ the third concatenation, and so on and so forth.<br /> \n",
    "Overall: \n",
    "$$\n",
    "l * \\sum_{i=2}^n i = l * \\Big[\\frac{n(n+1)}{2} - 1\\Big],\n",
    "$$\n",
    "which is, indeed, $O(n^2)$.<br />\n",
    "[*As of Python 2.4, the CPython implementation avoids creating a new string object when using a += b or a = a + b, but this optimization is both fragile and not portable.*]"
   ]
  },
  {
   "cell_type": "markdown",
   "metadata": {
    "slideshow": {
     "slide_type": "slide"
    }
   },
   "source": [
    "## More Efficient String Concatenation\n",
    "\n",
    "-  Use <code>\" \".join([a, b, c])</code>"
   ]
  },
  {
   "cell_type": "code",
   "execution_count": null,
   "metadata": {
    "slideshow": {
     "slide_type": "slide"
    }
   },
   "outputs": [],
   "source": [
    "print(\" \".join([a, b, c]))\n",
    "# alternatively, use a different separator from whitespace (e.g., '\\n')\n",
    "#print(\"\\n\".join([a, b, c]))"
   ]
  },
  {
   "cell_type": "markdown",
   "metadata": {
    "slideshow": {
     "slide_type": "slide"
    }
   },
   "source": [
    "## String Formatting\n",
    "\n",
    "-  String templating or formatting is another important topic. \n",
    "\n",
    "-  The number of ways to do so has expanded with the advent of Python 3\n",
    "\n",
    "-  String objects have a <code>**format**</code> method which can be used to substitute formatted arguments into the string, producing a new string.\n",
    "\n",
    "-  More information can be found on Python official [documentation](https://docs.python.org/3.6/library/stdtypes.html#str.format)."
   ]
  },
  {
   "cell_type": "code",
   "execution_count": null,
   "metadata": {
    "slideshow": {
     "slide_type": "slide"
    }
   },
   "outputs": [],
   "source": [
    "# Suppose you have multiple strings that are made of some fixed portion\n",
    "# as well as some variable portions that all adhere to a specific formatting pattern.\n",
    "# Let's define the following formatting pattern\n",
    "template = '{0:.2f} {1:s} are worth US${2:d}'\n",
    "\n",
    "# In the above template string:\n",
    "# {0:.2f} means to format the first argument as a floating point number with 2 decimals.\n",
    "# {1:s} means to format the 2nd argument as a string.\n",
    "# {2:d} means to format the 3rd argument as an exact integer.\n",
    "\n",
    "# We perform parameter substitution on the template defined above using the format method\n",
    "print(template.format(4.5560, 'Argentine Pesos', 1))"
   ]
  },
  {
   "cell_type": "code",
   "execution_count": null,
   "metadata": {
    "slideshow": {
     "slide_type": "slide"
    }
   },
   "outputs": [],
   "source": [
    "# If the order of the arguments of .format is the same of that expected by template\n",
    "# you can omit the indices: 0, 1, 2, etc.\n",
    "template = '{:.2f} {:s} are worth US${:d}'\n",
    "\n",
    "# We perform parameter substitution on the template defined above using the format method\n",
    "print(template.format(4.5560, 'Argentine Pesos', 1))"
   ]
  },
  {
   "cell_type": "code",
   "execution_count": null,
   "metadata": {
    "slideshow": {
     "slide_type": "slide"
    }
   },
   "outputs": [],
   "source": [
    "# Otherwise, you could specify a different order in the template w.r.t. the one of .format\n",
    "# BE CAREFUL WITH THIS APPROACH!\n",
    "template = '{2:.2f} {0:s} are worth US${1:d}'\n",
    "\n",
    "# We perform parameter substitution on the template defined above using the format method\n",
    "print(template.format(4.5560, 'Argentine Pesos', 1))"
   ]
  },
  {
   "cell_type": "code",
   "execution_count": null,
   "metadata": {
    "slideshow": {
     "slide_type": "slide"
    }
   },
   "outputs": [],
   "source": [
    "# Otherwise, you could specify a different order in the template w.r.t. the one of .format\n",
    "# BE CAREFUL WITH THIS APPROACH!\n",
    "template = '{2:.2f} {0:s} are worth US${1:d}'\n",
    "\n",
    "# We perform parameter substitution on the template defined above using the format method\n",
    "print(template.format('Argentine Pesos', 1, 4.5560))"
   ]
  },
  {
   "cell_type": "markdown",
   "metadata": {
    "slideshow": {
     "slide_type": "slide"
    }
   },
   "source": [
    "## Unicode vs. Byte Strings"
   ]
  },
  {
   "cell_type": "markdown",
   "metadata": {
    "slideshow": {
     "slide_type": "slide"
    }
   },
   "source": [
    "## Python 2.x\n",
    "\n",
    "-  In Python 2.x there are 2 distict types of strings:\n",
    "    -  <code>**str**</code> --> refers to sequence of bytes;\n",
    "    -  <code>**unicode**</code> --> refers to sequence of Unicode code points.\n",
    "- Depending on the **character encoding** used (e.g., UTF-8, ISO 8859-1, etc.) the same code point is possibly mapped to a different sequence of bytes."
   ]
  },
  {
   "cell_type": "markdown",
   "metadata": {
    "slideshow": {
     "slide_type": "slide"
    }
   },
   "source": [
    "## From Byte to Unicode String in Python 2.x\n",
    "\n",
    "-  To convert a Python 2.x byte string object (<code>**str**</code>) into its corresponding Unicode object (<code>**unicode**</code>) you need to call the <code>**decode(character_encoding)**</code> method (assuming you know <code>**character_encoding**</code>, e.g., UTF-8)\n",
    "```python\n",
    "# Assuming this is a UTF-8 encoded Python 2.x str\n",
    "s = 'This is a UTF-8 byte string' # s has type str\n",
    "u_s = s.decode(\"UTF-8\") # u_s has type unicode\n",
    "```"
   ]
  },
  {
   "cell_type": "markdown",
   "metadata": {
    "slideshow": {
     "slide_type": "slide"
    }
   },
   "source": [
    "## From Unicode to Byte String in Python 2.x\n",
    "\n",
    "-  Every time you have to serialize out your string you need to transform it into a sequence of bytes!\n",
    "\n",
    "-  To do so, use the <code>**encode(character_encoding)**</code> method.\n",
    "\n",
    "-  <span style=\"color: red\"><b>Warning:</b></span> Not every Unicode sequence can be encoded by every character encoding! For example, ASCII character encoding can only encode Unicode sequences representing ASCII characters.\n",
    "\n",
    "- Here is a comprehensive [reference](http://farmdev.com/talks/unicode/) to all we have been discussing so far."
   ]
  },
  {
   "cell_type": "markdown",
   "metadata": {
    "slideshow": {
     "slide_type": "slide"
    }
   },
   "source": [
    "## Luckily, We Use Python 3.x!\n",
    "\n",
    "-  Since Python 3.0, Unicode has become the first-class string type to enable more consistent handling of ASCII and non-ASCII text.\n",
    "\n",
    "-  Now the type <code>**str**</code> refers to Unicode **not** to bytes!\n",
    "\n",
    "-  There is however a specific type <code>**bytes**</code> to explicitly indicate sequence of bytes."
   ]
  },
  {
   "cell_type": "code",
   "execution_count": null,
   "metadata": {
    "slideshow": {
     "slide_type": "slide"
    }
   },
   "outputs": [],
   "source": [
    "print('***** From Unicode string to byte string *****')\n",
    "# This is a Unicode string containing non-ASCII character\n",
    "s = 'Barça'\n",
    "\n",
    "# This statement prints the type associated with s\n",
    "print(type(s))\n",
    "\n",
    "# We still can convert this Unicode string \n",
    "# to its UTF-8 bytes representation using the encode method:\n",
    "s_utf8 = s.encode(\"utf-8\")\n",
    "print(s_utf8)\n",
    "print(type(s_utf8))\n",
    "\n",
    "# If we try to encode our Unicode sequence to ASCII encoding...\n",
    "s_ascii = s.encode(\"ascii\")"
   ]
  },
  {
   "cell_type": "code",
   "execution_count": null,
   "metadata": {
    "slideshow": {
     "slide_type": "slide"
    }
   },
   "outputs": [],
   "source": [
    "print('***** From byte string to Unicode string *****')\n",
    "# Assuming you know the Unicode encoding of a bytes object, \n",
    "# you can still go back using the decode method:\n",
    "s_unicode = s_utf8.decode(\"utf-8\")\n",
    "print(s_unicode)\n",
    "print(type(s_unicode))\n",
    "\n",
    "# Again, if we try to decode the byte sequence with a different encoding\n",
    "# than the one actually used to serialize the Unicode sequence...\n",
    "s_unicode = s_utf8.decode(\"ascii\")"
   ]
  },
  {
   "cell_type": "markdown",
   "metadata": {
    "slideshow": {
     "slide_type": "slide"
    }
   },
   "source": [
    "## Not Everything Needs To Be UTF-8-encoded!\n",
    "\n",
    "-  While it is become preferred to use UTF-8 for any encoding, for historical reasons you may encounter data in any number of different encodings:\n",
    "    -  UTF-16\n",
    "    -  ISO 8859-1 (latin1)\n",
    "    -  Windows-1252 (CP-1252)\n",
    "    - ..."
   ]
  },
  {
   "cell_type": "code",
   "execution_count": null,
   "metadata": {
    "slideshow": {
     "slide_type": "slide"
    }
   },
   "outputs": [],
   "source": [
    "print(s.encode(\"utf-16\"))\n",
    "print(s.encode(\"iso-8859-1\"))\n",
    "print(s.encode(\"windows-1252\"))"
   ]
  },
  {
   "cell_type": "markdown",
   "metadata": {
    "slideshow": {
     "slide_type": "slide"
    }
   },
   "source": [
    "# Bytes: Type <code>bytes</code> (_immutable_)"
   ]
  },
  {
   "cell_type": "markdown",
   "metadata": {
    "slideshow": {
     "slide_type": "slide"
    }
   },
   "source": [
    "## Sometimes You Just Need Bytes!\n",
    "\n",
    "-  Especially while working with binary files (i.e., files containing sequence of bytes).\n",
    "\n",
    "-  A sequence of bytes is a sequence of integers in the range of <code>**0-255**</code> (only available in Python 3.x).\n",
    "\n",
    "-  You may not want to **decode** those sequence of bytes to Unicode sequence of chars!\n",
    "\n",
    "-  Note however that you can define your own byte literals by prefixing a string with <code>**b**</code>:\n",
    "```python\n",
    "byte_string = b'This is a byte string'\n",
    "```"
   ]
  },
  {
   "cell_type": "markdown",
   "metadata": {
    "slideshow": {
     "slide_type": "slide"
    }
   },
   "source": [
    "# ByteArray: Type <code>bytearray</code> (_mutable_)"
   ]
  },
  {
   "cell_type": "markdown",
   "metadata": {
    "slideshow": {
     "slide_type": "slide"
    }
   },
   "source": [
    "## Properties\n",
    "\n",
    "-  This built-in data type corresponds to **_mutable_** <code>**bytes**</code>.\n",
    "\n",
    "-  It is only available in Python 3.x."
   ]
  },
  {
   "cell_type": "markdown",
   "metadata": {
    "slideshow": {
     "slide_type": "slide"
    }
   },
   "source": [
    "# Summary\n",
    "\n",
    "-  Built-in data types:\n",
    "    -  <code>**bool**</code> and <code>**NoneType**</code> (<code>**None**</code>)\n",
    "    -  <u>numeric</u>: <code>**int**</code>, <code>**float**</code>, <code>**complex**</code> (*immutable*)\n",
    "    -  <u>sequences</u>: <code>**str**</code>, <code>**bytes**</code> (*immutable*), <code>**bytearray**</code> (*mutable*)\n",
    "    -  More built-in data types in the next lecture!"
   ]
  }
 ],
 "metadata": {
  "celltoolbar": "Slideshow",
  "kernelspec": {
   "display_name": "Python 3 (ipykernel)",
   "language": "python",
   "name": "python3"
  },
  "language_info": {
   "codemirror_mode": {
    "name": "ipython",
    "version": 3
   },
   "file_extension": ".py",
   "mimetype": "text/x-python",
   "name": "python",
   "nbconvert_exporter": "python",
   "pygments_lexer": "ipython3",
   "version": "3.12.6"
  }
 },
 "nbformat": 4,
 "nbformat_minor": 4
}
