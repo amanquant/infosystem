{
 "cells": [
  {
   "cell_type": "markdown",
   "metadata": {
    "slideshow": {
     "slide_type": "slide"
    }
   },
   "source": [
    "# Fundamentals of Information Systems\n",
    "\n",
    "## Python Programming (for Data Science)\n",
    "\n",
    "### Master's Degree in Data Science\n",
    "\n",
    "#### Giorgio Maria Di Nunzio\n",
    "#### (Courtesy of Gabriele Tolomei FIS 2018-2019)\n",
    "<a href=\"mailto:giorgiomaria.dinunzio@unipd.it\">giorgiomaria.dinunzio@unipd.it</a><br/>\n",
    "University of Padua, Italy<br/>\n",
    "2019/2020<br/>"
   ]
  },
  {
   "cell_type": "markdown",
   "metadata": {
    "slideshow": {
     "slide_type": "slide"
    }
   },
   "source": [
    "# Lecture 5: Functions & I/O"
   ]
  },
  {
   "cell_type": "markdown",
   "metadata": {
    "slideshow": {
     "slide_type": "slide"
    }
   },
   "source": [
    "# Functions"
   ]
  },
  {
   "cell_type": "markdown",
   "metadata": {
    "slideshow": {
     "slide_type": "slide"
    }
   },
   "source": [
    "## Motivations and Basic Syntax\n",
    "\n",
    "-  Functions are the primary and most important method of **code organization** and **reuse** in Python (and any programming language, for that matters!). \n",
    "\n",
    "-  In Python, functions are declared using the <code>**def**</code> keyword and returned from using the <code>**return**</code>.\n",
    "\n",
    "-  You may have multiple <code>**return**</code> statements. \n",
    "\n",
    "-  If the end of a function's body is reached without encountering a <code>**return**</code> statement, <code>**None**</code> is returned automatically."
   ]
  },
  {
   "cell_type": "markdown",
   "metadata": {
    "slideshow": {
     "slide_type": "slide"
    }
   },
   "source": [
    "## Input Arguments: _positional_ vs. _keyword_\n",
    "\n",
    "-  Each function can have some number of **_positional_** arguments and some number of **_keyword_** arguments.\n",
    "\n",
    "-  Keyword arguments are typically used to specify _default values_ or optional arguments.\n",
    "\n",
    "-  The main restriction is that the keyword arguments **must** follow positional arguments (if any)."
   ]
  },
  {
   "cell_type": "code",
   "execution_count": null,
   "metadata": {
    "slideshow": {
     "slide_type": "slide"
    }
   },
   "outputs": [],
   "source": [
    "'''\n",
    "Example of function definition.\n",
    "my_function is the name of the function\n",
    "This takes 3 input arguments: \n",
    "- a and b are positional arguments\n",
    "- c and d are keyword arguments\n",
    "'''\n",
    "def my_function(a, b, c=1.5, d=3):\n",
    "    if c > 1:\n",
    "        return c * (a + b) ** d\n",
    "    else:\n",
    "        return c / (a + b) ** d\n",
    "    \n",
    "# The function above can be called in either one of the following ways:\n",
    "# 1. Without keyword arguments (i.e., default keyword argument values are used)\n",
    "print(my_function(2,3))\n",
    "\n",
    "# 2.1. With keyword arguments (without specifying keywords)\n",
    "print(my_function(2,3,.8,2))\n",
    "\n",
    "# 2.2. With keyword arguments (specifying keywords in any order, disregarding the signature)\n",
    "print(my_function(2,3,d=.5,c=2))"
   ]
  },
  {
   "cell_type": "markdown",
   "metadata": {
    "slideshow": {
     "slide_type": "slide"
    }
   },
   "source": [
    "## Namespaces, Scope, and Local Functions\n",
    "\n",
    "-  Functions can access variables in 2 different scopes: **global** and **local**. \n",
    "\n",
    "-  An alternate and more descriptive name describing a variable scope in Python is a **namespace**. \n",
    "\n",
    "-  Any variable that is assigned within a function by default is assigned to the **local namespace**. \n",
    "\n",
    "    -  The local namespace is created when the function is called and immediately populated by the function's arguments. After the function returns, the local namespace is destroyed (with some exceptions)."
   ]
  },
  {
   "cell_type": "markdown",
   "metadata": {
    "slideshow": {
     "slide_type": "slide"
    }
   },
   "source": [
    "## _Global_ and _Local_ Variable Scope\n",
    "\n",
    "-  Python variables are **local** if not otherwise declared. The reason being is that **global** variables are generally bad practice and should be avoided.\n",
    "\n",
    "-  When you define variables inside a function definition, they are local to **this** function by default. As such:\n",
    "    -  Anything you do to those variables in the body of the function will have no effect on other variables outside of the function, **even if they have the same name**. \n",
    "    -  In other words, the function body is the **scope** of those variables, i.e., the context where names with their values are associated. "
   ]
  },
  {
   "cell_type": "markdown",
   "metadata": {
    "slideshow": {
     "slide_type": "slide"
    }
   },
   "source": [
    "## _Global_ and _Local_ Variable Scope\n",
    "\n",
    "-  All variables have the scope of the block, where they are **_declared_** and **_defined_**. (_They can only be used after the point of their declaration._)\n",
    "\n",
    "-  Just to make things clear: Variables don't have to be and can't be declared in the way they are declared in programming languages like Java or C. \n",
    "\n",
    "-  Variables in Python are implicitly declared by defining them, i.e., the first time you assign a value to a variable, this variable is declared and has automatically the data type of the object which has to be assigned to it."
   ]
  },
  {
   "cell_type": "code",
   "execution_count": null,
   "metadata": {
    "slideshow": {
     "slide_type": "slide"
    }
   },
   "outputs": [],
   "source": [
    "# Example 1: Trying to access a variable outside the local scope\n",
    "# of the function where it has been defined (and declared)\n",
    "def foo():\n",
    "    # We define my_list within the function's body\n",
    "    # This variable is assigned to the local namespace of this function\n",
    "    my_list = [36, 49, 64]\n",
    "    \n",
    "    # Print the values contained in my_list\n",
    "    print(\"Inside foo(), my_list is {}\".format(my_list))\n",
    "    \n",
    "# Print the values contained in my_list before calling foo()\n",
    "# NOTE: my_list has been only defined (and declared) within foo()'s scope!\n",
    "print(\"Before calling foo(), my_list is {}\".format(my_list))\n",
    "\n",
    "# Calling foo()\n",
    "foo()"
   ]
  },
  {
   "cell_type": "code",
   "execution_count": null,
   "metadata": {
    "slideshow": {
     "slide_type": "slide"
    }
   },
   "outputs": [],
   "source": [
    "# Example 2: Access a variable inside the local scope of a function yet \n",
    "# defined (and declared) outside of it\n",
    "# We define a function foo() which in its body uses the variable my_list.\n",
    "# Such a variable is defined (and therefore declared) before calling foo()\n",
    "# Define foo()\n",
    "def foo():\n",
    "    # Print the values contained in my_list\n",
    "    print(\"Inside foo(), my_list is {}\".format(my_list))\n",
    "\n",
    "# Define my_list outside the scope of foo() and before calling foo()\n",
    "my_list = [42, 73, 96]\n",
    "\n",
    "# Print the values contained in my_list before calling foo()\n",
    "print(\"Before calling foo(), my_list is {}\".format(my_list))\n",
    "\n",
    "# Calling foo()\n",
    "foo()\n",
    "\n",
    "# As there is no local variable my_list defined in foo()'s body, \n",
    "# i.e., there is no assignment to my_list,\n",
    "# the value from the outside global variable my_list will be used, \n",
    "# as this is the only existing binding of the name 'my_list' to a proper value.\n",
    "# So, we expect the output to be the list [42, 73, 96]."
   ]
  },
  {
   "cell_type": "markdown",
   "metadata": {
    "slideshow": {
     "slide_type": "slide"
    }
   },
   "source": [
    "## Checkpoint Quiz\n",
    "\n",
    "What will happen, if we change the value of *<code>**my_list**</code> *inside of the function *<code>**foo()**</code>*? Will this affect the outside global variable as well?"
   ]
  },
  {
   "cell_type": "code",
   "execution_count": null,
   "metadata": {
    "slideshow": {
     "slide_type": "slide"
    }
   },
   "outputs": [],
   "source": [
    "# Example 3: Modifying the value of a variable inside the local scope of a function yet \n",
    "# defined (and declared) outside of it is reflected to the global variable\n",
    "def foo():\n",
    "    # We modify the variable my_list within the function's body\n",
    "    my_list.extend([36, 49, 64])\n",
    "    \n",
    "    # Print the values contained in my_list\n",
    "    print(\"Inside foo(), my_list is {}\".format(my_list))\n",
    "\n",
    "# Define my_list outside the scope of foo() and before calling foo()\n",
    "my_list = [42, 73, 96]\n",
    "\n",
    "# Print the values contained in my_list before calling foo()\n",
    "print(\"Before calling foo(), my_list is {}\".format(my_list))\n",
    "\n",
    "# Calling foo()\n",
    "foo()\n",
    "\n",
    "# Print the values contained in my_list when foo() returns\n",
    "print(\"After calling foo(), my_list is {}\".format(my_list))"
   ]
  },
  {
   "cell_type": "code",
   "execution_count": null,
   "metadata": {
    "slideshow": {
     "slide_type": "slide"
    }
   },
   "outputs": [],
   "source": [
    "# Example 4: Re-binding a variable inside the local scope of a function yet \n",
    "# defined (and declared) outside of it does not affect global variable\n",
    "def foo():\n",
    "    # We re-define the variable my_list within the function's body\n",
    "    # Actually, we are re-binding the name my_list (already used) to a different object\n",
    "    my_list = [36, 49, 64]\n",
    "    \n",
    "    # Print the values contained in my_list\n",
    "    print(\"Inside foo(), my_list is {}\".format(my_list))\n",
    "\n",
    "# Define my_list outside the scope of foo() and before calling foo()\n",
    "my_list = [42, 73, 96]\n",
    "\n",
    "# Print the values contained in my_list before calling foo()\n",
    "print(\"Before calling foo(), my_list is {}\".format(my_list))\n",
    "\n",
    "# Calling foo()\n",
    "foo()\n",
    "\n",
    "# Print the values contained in my_list when foo() returns\n",
    "print(\"After calling foo(), my_list is {}\".format(my_list))"
   ]
  },
  {
   "cell_type": "markdown",
   "metadata": {
    "slideshow": {
     "slide_type": "slide"
    }
   },
   "source": [
    "## Checkpoint Quiz\n",
    "\n",
    "What if we combine the last two examples, i.e., within the *<code>**foo()**</code>* function, we first access *<code>**my_list**</code>* with a *<code>**print()**</code>*, hoping to get the value associated with the __global namespace__ (outside *<code>**foo()**</code>*'s local scope), and then assigning a new value to it? \n",
    "Assigning a value to it, means creating a __local__ variable *<code>**my_list**</code>*. So, we would have the same name *<code>**my_list**</code>* bound both to a __global__ and a __local__ variable in the same scope, i.e., the body of the function."
   ]
  },
  {
   "cell_type": "code",
   "execution_count": null,
   "metadata": {
    "slideshow": {
     "slide_type": "slide"
    }
   },
   "outputs": [],
   "source": [
    "# Example 5: Access AND try to re-bind a variable inside the local scope of a function \n",
    "# yet defined (and declared) outside of it\n",
    "def foo():\n",
    "    # Print the values contained in my_list\n",
    "    print(\"Inside foo(), my_list is {}\".format(my_list))\n",
    "    \n",
    "    # We re-define the variable my_list within the function's body\n",
    "    # Actually, we are re-binding the name my_list (already used) to a different object\n",
    "    my_list = [36, 49, 64]\n",
    "    \n",
    "    # Print the values contained in my_list\n",
    "    print(\"Inside foo(), my_list is {}\".format(my_list))\n",
    "\n",
    "# Define my_list outside the scope of foo() and before calling foo()\n",
    "my_list = [42, 73, 96]\n",
    "\n",
    "# Print the values contained in my_list before calling foo()\n",
    "print(\"Before calling foo(), my_list is {}\".format(my_list))\n",
    "\n",
    "# Calling foo()\n",
    "foo()\n",
    "\n",
    "# Print the values contained in my_list when foo() returns\n",
    "print(\"After calling foo(), my_list is {}\".format(my_list))"
   ]
  },
  {
   "cell_type": "markdown",
   "metadata": {
    "slideshow": {
     "slide_type": "slide"
    }
   },
   "source": [
    "## Observations\n",
    "\n",
    "-  A variable can't be both **_local_** and **_global_** inside of a function. \n",
    "\n",
    "-  Python assumes that <code>**my_list**</code> in the first <code>**print()**</code> statement inside <code>**foo()**</code>'s local scope refers to the **_local_** variable <code>**my_list**</code> that is defined right after and **not** to the **_global_** one defined outside.\n",
    "\n",
    "-  That is why we get the <code>**UnboundLocalError**</code>, as Python thinks we are trying to access a variable before its definition.\n",
    "\n",
    "-  To tell Python that we want to use the **_global_** variable, we have to explicitly state this by using the keyword <code>**global**</code>."
   ]
  },
  {
   "cell_type": "code",
   "execution_count": 1,
   "metadata": {
    "slideshow": {
     "slide_type": "slide"
    }
   },
   "outputs": [
    {
     "name": "stdout",
     "output_type": "stream",
     "text": [
      "Before calling foo(), my_list is [42, 73, 96]\n",
      "Inside foo(), my_list is [42, 73, 96]\n",
      "Inside foo(), my_list is [36, 49, 64]\n",
      "After calling foo(), my_list is [36, 49, 64]\n"
     ]
    }
   ],
   "source": [
    "# Example 6: Access AND try to re-bind a variable inside the local scope of a function \n",
    "# yet defined (and declared) outside of it by explicitly telling Python that \n",
    "# we are referring to the global (outside defined) variable. \n",
    "def foo():\n",
    "    # Explicitly tell Python we are referring to the variable my_list\n",
    "    # defined outsilde this local scope (i.e., global)\n",
    "    global my_list\n",
    "    \n",
    "    # Print the values contained in (global) my_list\n",
    "    print(\"Inside foo(), my_list is {}\".format(my_list))\n",
    "    \n",
    "    # We re-define the global variable my_list within the function's body\n",
    "    # Actually, we are re-binding the name my_list (already used) to a different object\n",
    "    my_list = [36, 49, 64]\n",
    "    \n",
    "    # Print the values contained in my_list\n",
    "    print(\"Inside foo(), my_list is {}\".format(my_list))\n",
    "\n",
    "# Define my_list outside the scope of foo() and before calling foo()\n",
    "my_list = [42, 73, 96]\n",
    "\n",
    "# Print the values contained in my_list before calling foo()\n",
    "print(\"Before calling foo(), my_list is {}\".format(my_list))\n",
    "\n",
    "# Calling foo()\n",
    "foo()\n",
    "\n",
    "# Print the values contained in my_list when foo() returns\n",
    "print(\"After calling foo(), my_list is {}\".format(my_list))"
   ]
  },
  {
   "cell_type": "markdown",
   "metadata": {
    "slideshow": {
     "slide_type": "slide"
    }
   },
   "source": [
    "## _Nonlocal_ Variables\n",
    "\n",
    "-  Pyhton 3 introduces also <code>**nonlocal**</code> variables.\n",
    "\n",
    "-  Those are similar to <code>**global**</code> variables but they can only be used inside of nested functions. \n",
    "\n",
    "-  In other words, a <code>**nonlocal**</code> variable has to be defined in the enclosing function scope."
   ]
  },
  {
   "cell_type": "code",
   "execution_count": null,
   "metadata": {
    "slideshow": {
     "slide_type": "slide"
    }
   },
   "outputs": [],
   "source": [
    "# Example 7: nonlocal variables can only be used if they are defined in one of the\n",
    "# enclosing nested function\n",
    "def foo():\n",
    "    # Trying to access my_list as if it was global turns into an error!\n",
    "    nonlocal my_list\n",
    "    \n",
    "    # Print the values contained in (nonlocal) my_list\n",
    "    print(\"Inside foo(), my_list is {}\".format(my_list))\n",
    "    \n",
    "# Define my_list outside the scope of foo() and before calling foo()\n",
    "my_list = [42, 73, 96]\n",
    "\n",
    "# Print the values contained in my_list before calling foo()\n",
    "print(\"Before calling foo(), my_list is {}\".format(my_list))\n",
    "\n",
    "# Calling foo()\n",
    "foo()\n",
    "\n",
    "# Print the values contained in my_list when foo() returns\n",
    "print(\"After calling foo(), my_list is {}\".format(my_list))"
   ]
  },
  {
   "cell_type": "code",
   "execution_count": null,
   "metadata": {
    "slideshow": {
     "slide_type": "slide"
    }
   },
   "outputs": [],
   "source": [
    "# Example 8: correct usage of nonlocal variables\n",
    "def foo():\n",
    "    # Define my_list inside the scope of foo() and before calling bar()\n",
    "    my_list = [36, 49, 64]\n",
    "    \n",
    "    # Print the values contained in my_list before calling bar()\n",
    "    print(\"Inside foo() and before calling bar(), my_list is {}\".format(my_list))\n",
    "    \n",
    "    def bar():\n",
    "        # Trying to access my_list defined in foo()'s local scope\n",
    "        nonlocal my_list\n",
    "        \n",
    "        my_list = [6, 7, 8]\n",
    "        \n",
    "        # Print the values contained in (nonlocal) my_list\n",
    "        print(\"Inside bar(), my_list is {}\".format(my_list))\n",
    "        \n",
    "    # Calling bar()\n",
    "    bar()\n",
    "    \n",
    "    # Print the values contained in my_list after calling bar()\n",
    "    print(\"Inside foo() and after calling bar(), my_list is {}\".format(my_list))\n",
    "\n",
    "# Define my_list outside the scope of foo() and before calling foo()\n",
    "my_list = [42, 73, 96]\n",
    "\n",
    "# Print the values contained in my_list before calling foo()\n",
    "print(\"Before calling foo(), my_list is {}\".format(my_list))\n",
    "\n",
    "# Calling foo()\n",
    "foo()\n",
    "\n",
    "# Print the values contained in my_list when foo() returns\n",
    "print(\"After calling foo(), my_list is {}\".format(my_list))"
   ]
  },
  {
   "cell_type": "markdown",
   "metadata": {
    "slideshow": {
     "slide_type": "slide"
    }
   },
   "source": [
    "## How Function Call (Roughly) Works\n",
    "\n",
    "-  Calling function <code>**foo()**</code> results into the creation of a so-called **stack frame** (a.k.a. **activation frame** or **activation record**).\n",
    "\n",
    "-  The stack frame contains essentially 3 pieces of information:\n",
    "    -  the actual input arguments to the called function (if any);\n",
    "    -  the (memory) address where to return after the called function terminates;\n",
    "    -  the called function's internal state (e.g., local variables).\n",
    "    \n",
    "-  Upon returning to the \"caller\", the stack frame corresponding to the called function is destroyed!"
   ]
  },
  {
   "cell_type": "markdown",
   "metadata": {
    "slideshow": {
     "slide_type": "slide"
    }
   },
   "source": [
    "<span style=\"color: red\"><b>NOTE:</b></span> *When the stack frame corresponding to a function call is destroyed, any variable definition that is in the __local namespace__ of the function is destroyed as well __but__ if the *<code>**global**</code>* keyword is used to refer to a variable living inside the __global namespace__ instead then this will be also visible once the function returns to the caller.*"
   ]
  },
  {
   "cell_type": "markdown",
   "metadata": {
    "slideshow": {
     "slide_type": "slide"
    }
   },
   "source": [
    "## Returning Multiple Values\n",
    "\n",
    "-  One of the most useful feature of Python functions is their ability to possibly return multiple values\n",
    "\n",
    "-  In many applications (especially, in data science), you will likely encounter many functions that may have multiple outputs."
   ]
  },
  {
   "cell_type": "code",
   "execution_count": null,
   "metadata": {
    "slideshow": {
     "slide_type": "slide"
    }
   },
   "outputs": [],
   "source": [
    "# Consider the following function returning 3 values\n",
    "def bar():\n",
    "    x = 3\n",
    "    y = 4\n",
    "    z = 5\n",
    "    return x, y, z\n",
    "\n",
    "# Assign the values returned by bar() to 3 variables: a, b, and c\n",
    "a,b,c = bar()\n",
    "print(\"a = {0}; b = {1}; c = {2}\".format(a,b,c))"
   ]
  },
  {
   "cell_type": "code",
   "execution_count": null,
   "metadata": {
    "slideshow": {
     "slide_type": "slide"
    }
   },
   "outputs": [],
   "source": [
    "# Consider the same function returning 3 values\n",
    "def bar():\n",
    "    x = 3\n",
    "    y = 4\n",
    "    z = 5\n",
    "    return x, y, z\n",
    "\n",
    "# We can assign the values returned by bar() to an iterable object (a tuple)\n",
    "record = bar()\n",
    "print(\"a = {0}; b = {1}; c = {2}\".format(record[0],record[1],record[2]))"
   ]
  },
  {
   "cell_type": "markdown",
   "metadata": {
    "slideshow": {
     "slide_type": "slide"
    }
   },
   "source": [
    "## Functions _are_ Objects\n",
    "\n",
    "-  This allows the expression of many construct that are difficult to do in other programming languages."
   ]
  },
  {
   "cell_type": "code",
   "execution_count": null,
   "metadata": {
    "slideshow": {
     "slide_type": "slide"
    }
   },
   "outputs": [],
   "source": [
    "# Consider the following example, where we do some data cleaning \n",
    "# and need to apply a bunch of transformations to a (\"messy\") list of strings\n",
    "states = ['   Alabama ', 'Georgia!', 'CAlifoRnia', 'texas!!', 'FlOrIda',\n",
    "          'south carolina##', 'West virginia?']\n",
    "\n",
    "# Lots of so-called preprocessing steps need to be done \n",
    "# to make this list of strings uniform and ready for analysis: \n",
    "# e.g., whitespace stripping, removing punctuation symbols, and proper capitalization"
   ]
  },
  {
   "cell_type": "code",
   "execution_count": null,
   "metadata": {
    "slideshow": {
     "slide_type": "slide"
    }
   },
   "outputs": [],
   "source": [
    "# 1st Solution\n",
    "# The following Python statement tells the interpreter to import a specific module\n",
    "# In particular, re stands for the regular expression module (more on import later)\n",
    "import re\n",
    "\n",
    "# Define a function that takes as input a list of strings and returns another list\n",
    "# where strings are properly preprocessed and normalized\n",
    "def clean_strings(strings):\n",
    "    result = []\n",
    "    \n",
    "    for value in strings:\n",
    "        # remove leading and trailing whitespaces\n",
    "        value = value.strip() \n",
    "        \n",
    "        # remove punctuation\n",
    "        value = re.sub('[!#?]', '', value) \n",
    "        \n",
    "        # capitalize only the first letter\n",
    "        value = value.title() \n",
    "        \n",
    "        result.append(value)\n",
    "        \n",
    "    return result\n",
    "\n",
    "# Call the function defined above\n",
    "clean_strings(states)"
   ]
  },
  {
   "cell_type": "code",
   "execution_count": null,
   "metadata": {
    "slideshow": {
     "slide_type": "slide"
    }
   },
   "outputs": [],
   "source": [
    "# 2nd Solution\n",
    "# An alternate approach is to make a list of the operations to apply to the list of strings \n",
    "# functional pattern (exploiting the fact that functions are objects)\n",
    "\n",
    "# Define a function for removing punctuation from a string\n",
    "def remove_punctuation(value):\n",
    "    return re.sub('[!#?]', '', value)\n",
    "\n",
    "# Create a list of operations: either built-in functions (e.g., str.title) or user-defined\n",
    "clean_ops = [str.strip, remove_punctuation, str.title]\n",
    "\n",
    "# Define our preprocessing function so that it takes the list of functions as 2nd argument \n",
    "def clean_strings(strings, ops):\n",
    "    result = []\n",
    "\n",
    "    # loop through each string as above\n",
    "    for value in strings:\n",
    "        # loop through each operation (function)\n",
    "        for function in ops: \n",
    "            # function is the reference to a function object\n",
    "            value = function(value) \n",
    "            \n",
    "        result.append(value)\n",
    "        \n",
    "    return result\n",
    "    \n",
    "# Call the function defined above (this time with the list of operations)\n",
    "clean_strings(states, clean_ops)"
   ]
  },
  {
   "cell_type": "markdown",
   "metadata": {
    "slideshow": {
     "slide_type": "slide"
    }
   },
   "source": [
    "## Anonymous (_lambda_) Functions\n",
    "\n",
    "-  Python has support for so-called **_anonymous_** or **_lambda_** functions.\n",
    "\n",
    "-  Those are just functions consisting of a single statement, the result of which is the return value.\n",
    "\n",
    "-  They are defined using the <code>**lambda**</code> keyword.\n",
    "\n",
    "-  They are very convenient in data analysis because in many cases data transformation functions will take functions as arguments. "
   ]
  },
  {
   "cell_type": "code",
   "execution_count": null,
   "metadata": {
    "slideshow": {
     "slide_type": "slide"
    }
   },
   "outputs": [],
   "source": [
    "# In the following example, we define a single-statement function in 2 ways:\n",
    "# 1) The usual way as below\n",
    "def short_foo(x):\n",
    "    return x * 2\n",
    "\n",
    "# 2) Using anonymous function via the lambda keyword\n",
    "lambda_short_foo = lambda x: x * 2"
   ]
  },
  {
   "cell_type": "code",
   "execution_count": null,
   "metadata": {
    "slideshow": {
     "slide_type": "slide"
    }
   },
   "outputs": [],
   "source": [
    "# Consider the following function which takes as argument another function foo\n",
    "# foo is in turn applied to each element of the list\n",
    "def apply_to_list(some_list, foo):\n",
    "    return [foo(x) for x in some_list]\n",
    "\n",
    "# values is the input list\n",
    "values = [4, 0, 1, 5, 6]\n",
    "\n",
    "# When calling apply_to_list, instead of defining explicitly foo just use lambda\n",
    "apply_to_list(values, lambda x: x * 2)"
   ]
  },
  {
   "cell_type": "markdown",
   "metadata": {
    "slideshow": {
     "slide_type": "slide"
    }
   },
   "source": [
    "## Checkpoint Quiz\n",
    "\n",
    "How would you implement <code>**apply_to_list**</code> function without using <code>**lambda**</code>?"
   ]
  },
  {
   "cell_type": "code",
   "execution_count": null,
   "metadata": {
    "slideshow": {
     "slide_type": "slide"
    }
   },
   "outputs": [],
   "source": [
    "def apply_to_list_no_lambda(some_list):\n",
    "    '''\n",
    "    TODO: given the input list some_list, return another list\n",
    "    so that its i-th element is equal to the i-th element of some_list yet multiplied by 2 \n",
    "    '''"
   ]
  },
  {
   "cell_type": "code",
   "execution_count": null,
   "metadata": {
    "slideshow": {
     "slide_type": "skip"
    }
   },
   "outputs": [],
   "source": [
    "# Check if results are the same when invoking apply_to_list and apply_to_list_no_lambda\n",
    "apply_to_list(values, lambda x: x * 2) == apply_to_list_no_lambda(values)"
   ]
  },
  {
   "cell_type": "markdown",
   "metadata": {
    "slideshow": {
     "slide_type": "slide"
    }
   },
   "source": [
    "## Extended Function Call Syntax: <code>\\*args</code>, <code>\\**kwargs</code>\n",
    "\n",
    "-  The way that function arguments work under the hood in Python is actually very simple. \n",
    "\n",
    "-  When you write <code>**foo(a, b, c, d=d_value, e=e_value)**</code>, **_positional_** arguments are packed into a <code>**tuple**</code>, whilst **_keyword_** arguments into a <code>**dict**</code>. \n",
    "\n",
    "-  So, the internal function receives a <code>**tuple args**</code> and <code>**dict kwargs**</code>."
   ]
  },
  {
   "cell_type": "code",
   "execution_count": 5,
   "metadata": {
    "slideshow": {
     "slide_type": "slide"
    }
   },
   "outputs": [
    {
     "name": "stdout",
     "output_type": "stream",
     "text": [
      "args = (5, 7)\n",
      "kargs = {'c': 4.0}\n",
      "Hello! Now I'm going to call 'bar(5, 7, 4.0)'\n"
     ]
    },
    {
     "data": {
      "text/plain": [
       "3.0"
      ]
     },
     "execution_count": 5,
     "metadata": {},
     "output_type": "execute_result"
    }
   ],
   "source": [
    "# Consider the following function definition\n",
    "# This takes as input another function foo, plus the list of positional arguments (*args)\n",
    "# and the list of keyword arguments (**kwargs)\n",
    "def say_hello_then_call_foo(foo, *args, **kwargs):\n",
    "    print('args = {}'.format(args))\n",
    "    print('kargs = {}'.format(kwargs))\n",
    "    print(\"Hello! Now I'm going to call '{}({}, {}, {})'\".format(foo.__name__, args[0], args[1], kwargs['c']))\n",
    "    return foo(*args, **kwargs)\n",
    "\n",
    "# This is the function which will be input to the above\n",
    "def bar(a, b, c=1):\n",
    "    return (a + b) / c\n",
    "\n",
    "# Call say_hello_then_call_foo with bar\n",
    "say_hello_then_call_foo(bar, 5, 7, c=4.0)"
   ]
  },
  {
   "cell_type": "markdown",
   "metadata": {
    "slideshow": {
     "slide_type": "slide"
    }
   },
   "source": [
    "## Iterators\n",
    "\n",
    "-  Having a consistent way to iterate over sequences, like objects in a list is an important Python feature. \n",
    "\n",
    "-  This is accomplished by means of the **_iterator protocol_**, a generic way to make objects **_iterable_**."
   ]
  },
  {
   "cell_type": "code",
   "execution_count": 6,
   "metadata": {
    "slideshow": {
     "slide_type": "slide"
    }
   },
   "outputs": [
    {
     "name": "stdout",
     "output_type": "stream",
     "text": [
      "x\n",
      "y\n",
      "z\n"
     ]
    },
    {
     "data": {
      "text/plain": [
       "<dict_keyiterator at 0x7fc7d09ccc20>"
      ]
     },
     "execution_count": 6,
     "metadata": {},
     "output_type": "execute_result"
    }
   ],
   "source": [
    "# For example, iterating over a dict yields the dict keys\n",
    "a_dict = {'x': 1, 'y': 2, 'z': 3}\n",
    "\n",
    "# When you write the loop below, the Python interpreter first attempts\n",
    "# to create an iterator out of a_dict\n",
    "for key in a_dict:\n",
    "    print(key)\n",
    "    \n",
    "# An iterator is any object that will yield objects to the Python interpreter \n",
    "# when used in a context like a for loop. \n",
    "# Most methods expecting a list or list-like object will also accept an iterable object\n",
    "dict_iterator = iter(a_dict)\n",
    "dict_iterator"
   ]
  },
  {
   "cell_type": "markdown",
   "metadata": {
    "slideshow": {
     "slide_type": "slide"
    }
   },
   "source": [
    "## Generators\n",
    "\n",
    "-  A **_generator_** is a concise way to construct a new iterable object. \n",
    "\n",
    "-  Typically, functions execute and return one or more values as a whole.\n",
    "\n",
    "-  Generators, instead, are functions that return a sequence of values *lazily*, pausing after each one until the next one is requested. \n",
    "\n",
    "-  To create a generator function, <code>**yield**</code> keyword rather than <code>**return**</code> is used."
   ]
  },
  {
   "cell_type": "code",
   "execution_count": null,
   "metadata": {
    "slideshow": {
     "slide_type": "slide"
    }
   },
   "outputs": [],
   "source": [
    "# Consider the following example\n",
    "# Note that squares(n) uses yield instead of return\n",
    "def squares(n=10):\n",
    "    print('Generating squares of numbers from 1 to {0}'.format(n))\n",
    "    for i in range(1, n + 1):\n",
    "        yield i ** 2\n",
    "\n",
    "# Check this is actually a generator\n",
    "squares_gen = squares(12)\n",
    "print(type(squares_gen))\n",
    "\n",
    "# Until you request elements from the generator this won't execute its code\n",
    "\n",
    "# Use the generator\n",
    "for x in squares_gen:\n",
    "    print(x, end=' ') # end=' ' Appends a whitespace instead of a newline"
   ]
  },
  {
   "cell_type": "markdown",
   "metadata": {
    "slideshow": {
     "slide_type": "slide"
    }
   },
   "source": [
    "# I/O"
   ]
  },
  {
   "cell_type": "markdown",
   "metadata": {
    "slideshow": {
     "slide_type": "slide"
    }
   },
   "source": [
    "# I/O Basics\n",
    "\n",
    "-  In this class, we will be using high-level tools provided by third-party modules (e.g., <code>**pandas**</code>) to load data files from disk into Python data structures. \n",
    "\n",
    "-  Still, it is important to understand the basics of how to work with files in Python!\n",
    "\n",
    "-  To open a file for reading or writing, use the built-in <code>**open()**</code> function with either a relative or absolute file path.\n",
    "\n",
    "-  The full API specification for <code>**open()**</code> can be found [here](https://docs.python.org/3/library/functions.html#open)."
   ]
  },
  {
   "cell_type": "code",
   "execution_count": null,
   "metadata": {
    "scrolled": true,
    "slideshow": {
     "slide_type": "slide"
    }
   },
   "outputs": [],
   "source": [
    "# Assuming we have a file 'sample.txt' stored at this location (relative path)\n",
    "path = './data/sample.txt'\n",
    "\n",
    "# The result of the 'open' function is a 'handle' to a file object\n",
    "# By deafult, file is opened in 'read-only' text mode (binary mode is also available)\n",
    "# In text mode, if encoding is not specified the encoding used is platform dependent:\n",
    "# locale.getpreferredencoding(False) is called to get the current locale encoding\n",
    "infile = open(path) # This is equal to open(path, 'r')"
   ]
  },
  {
   "cell_type": "code",
   "execution_count": null,
   "metadata": {
    "slideshow": {
     "slide_type": "slide"
    }
   },
   "outputs": [],
   "source": [
    "# infile can be thought of as a reference to a list of (Unicode) strings\n",
    "# You can loop through each line of the file (delimited by '\\n') as follows\n",
    "for line in infile:\n",
    "    print(line)"
   ]
  },
  {
   "cell_type": "code",
   "execution_count": null,
   "metadata": {
    "slideshow": {
     "slide_type": "slide"
    }
   },
   "outputs": [],
   "source": [
    "# The following is used to remove EOL character from each line\n",
    "lines = [line.strip() for line in open(path)]\n",
    "print(lines)"
   ]
  },
  {
   "cell_type": "code",
   "execution_count": null,
   "metadata": {
    "slideshow": {
     "slide_type": "slide"
    }
   },
   "outputs": [],
   "source": [
    "# Whatever we have to do with a file's handle (reading from it or writing to it),\n",
    "# eventually we should call the 'close()' method on it\n",
    "infile.close()"
   ]
  },
  {
   "cell_type": "code",
   "execution_count": null,
   "metadata": {
    "slideshow": {
     "slide_type": "slide"
    }
   },
   "outputs": [],
   "source": [
    "# Instead of explicitly opening/closing the file's handle, Python has this nice solution\n",
    "with open(path) as infile:\n",
    "    for line in infile:\n",
    "        if line.strip() != '':\n",
    "            print(line.strip())"
   ]
  },
  {
   "cell_type": "markdown",
   "metadata": {
    "slideshow": {
     "slide_type": "slide"
    }
   },
   "source": [
    "## Reading from Files\n",
    "\n",
    "-  For readable files, some of the most commonly used methods are <code>**read()**</code>, <code>**seek()**</code>, and <code>**tell()**</code>. \n",
    "\n",
    "-  <code>**read()**</code> returns a certain number of characters from the file. \n",
    "\n",
    "-  What constitutes a \"character\" depends on whether the file is opened in **text** or **binary** mode."
   ]
  },
  {
   "cell_type": "code",
   "execution_count": null,
   "metadata": {
    "slideshow": {
     "slide_type": "slide"
    }
   },
   "outputs": [],
   "source": [
    "# Example of using 'read' method\n",
    "# Re-open the previously closed file in text mode (by default, UTF-8 encoding is assumed)\n",
    "text_file = open(path) # This is equal to open(path, 'r')\n",
    "\n",
    "# Read 10 characters\n",
    "print(text_file.read(10))"
   ]
  },
  {
   "cell_type": "code",
   "execution_count": null,
   "metadata": {
    "slideshow": {
     "slide_type": "slide"
    }
   },
   "outputs": [],
   "source": [
    "# What if we use the 'read' method when the file is opened in binary mode\n",
    "binary_file = open(path, 'rb')\n",
    "\n",
    "# Read 10 characters\n",
    "print(binary_file.read(10))"
   ]
  },
  {
   "cell_type": "code",
   "execution_count": null,
   "metadata": {
    "slideshow": {
     "slide_type": "slide"
    }
   },
   "outputs": [],
   "source": [
    "# The 'read' method advances the file handle's position by the number of bytes read. \n",
    "# The 'tell' method gives you the current position\n",
    "# This is the output when this is called on a file opened in text mode\n",
    "print(\"Number of bytes read = {}\".format(text_file.tell()))\n",
    "\n",
    "# This is the output when this is called on a file opened in binary mode\n",
    "print(\"Number of bytes read = {}\".format(binary_file.tell()))\n",
    "\n",
    "# The difference is due to the fact that the text-mode file handle \n",
    "# needs to advance by 11 bytes in order to decode 10 characters \n",
    "# (which is assumed to be UTF-8-encoded by default). The extra byte originates\n",
    "# from the fact that the'ñ' character is encoded with 2 bytes using UTF-8\n",
    "# With byte-mode file handle, instead, the number of characters read\n",
    "# also correspond to the number of bytes read!"
   ]
  },
  {
   "cell_type": "code",
   "execution_count": null,
   "metadata": {
    "slideshow": {
     "slide_type": "slide"
    }
   },
   "outputs": [],
   "source": [
    "# Lastly, 'seek' changes the file position to the indicates byte in the file\n",
    "# Text-mode file handle\n",
    "text_file.seek(3)\n",
    "print(\"Current byte position (text-mode opened) = {}\".format(text_file.read(1)))\n",
    "\n",
    "# Byte-mode file handle\n",
    "binary_file.seek(3)\n",
    "print(\"Current byte position (binary-mode opened) = {}\".format(binary_file.read(1)))\n",
    "\n",
    "# Finally, close both file handles\n",
    "text_file.close()\n",
    "binary_file.close()"
   ]
  },
  {
   "cell_type": "markdown",
   "metadata": {
    "slideshow": {
     "slide_type": "slide"
    }
   },
   "source": [
    "## Writing to Files\n",
    "\n",
    "-  To write text to a file, you can use either the file's <code>**write()**</code> or <code>**writelines()**</code> methods. \n",
    "\n",
    "-  For example, we could create a version of the previous text file with no blank lines."
   ]
  },
  {
   "cell_type": "code",
   "execution_count": null,
   "metadata": {
    "slideshow": {
     "slide_type": "slide"
    }
   },
   "outputs": [],
   "source": [
    "# Write each line of the original file to a new temporary file\n",
    "with open('data/tmp.txt', 'w') as outfile:\n",
    "    outfile.writelines(line for line in open(path) if len(line) > 1)\n",
    "\n",
    "# See if the written file contains what we actually expect\n",
    "with open('data/tmp.txt') as infile:\n",
    "    print(infile.readlines())"
   ]
  }
 ],
 "metadata": {
  "celltoolbar": "Slideshow",
  "kernelspec": {
   "display_name": "Python 3 (ipykernel)",
   "language": "python",
   "name": "python3"
  },
  "language_info": {
   "codemirror_mode": {
    "name": "ipython",
    "version": 3
   },
   "file_extension": ".py",
   "mimetype": "text/x-python",
   "name": "python",
   "nbconvert_exporter": "python",
   "pygments_lexer": "ipython3",
   "version": "3.9.7"
  }
 },
 "nbformat": 4,
 "nbformat_minor": 4
}
